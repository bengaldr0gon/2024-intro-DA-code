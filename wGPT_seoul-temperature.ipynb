{
 "cells": [
  {
   "cell_type": "code",
   "execution_count": 3,
   "id": "4e5424e5-119c-46ec-91b9-1e910f8d8ad8",
   "metadata": {},
   "outputs": [
    {
     "data": {
      "text/plain": [
       "('2018-08-02', 30.3)"
      ]
     },
     "execution_count": 3,
     "metadata": {},
     "output_type": "execute_result"
    }
   ],
   "source": [
    "# Let's read the CSV file to identify the date with the highest temperature in Seoul\n",
    "import csv\n",
    "\n",
    "# File path\n",
    "file_path = \"C:/Users/PC/Downloads/seoul.csv\"\n",
    "\n",
    "# Variables to track the date and temperature\n",
    "max_temp = -float('inf')\n",
    "max_temp_date = None\n",
    "\n",
    "# Open the file and read it\n",
    "with open(file_path, 'r', encoding='cp949') as f:\n",
    "    data = csv.reader(f)\n",
    "    \n",
    "    # Skip the header\n",
    "    next(data)\n",
    "    \n",
    "    # Iterate through each row to find the maximum temperature\n",
    "    for row in data:\n",
    "        date = row[0].strip()  # Date\n",
    "        try:\n",
    "            # The highest temperature is in the 4th column (index 3)\n",
    "            temp = float(row[3].strip())\n",
    "            \n",
    "            # Compare and update max temperature and the corresponding date\n",
    "            if temp > max_temp:\n",
    "                max_temp = temp\n",
    "                max_temp_date = date\n",
    "        except ValueError:\n",
    "            # Skip rows with invalid temperature data\n",
    "            continue\n",
    "\n",
    "(max_temp_date, max_temp)\n"
   ]
  },
  {
   "cell_type": "code",
   "execution_count": null,
   "id": "489329b9-327b-4bc2-a0c7-43098068c44e",
   "metadata": {},
   "outputs": [],
   "source": []
  }
 ],
 "metadata": {
  "kernelspec": {
   "display_name": "Python 3 (ipykernel)",
   "language": "python",
   "name": "python3"
  },
  "language_info": {
   "codemirror_mode": {
    "name": "ipython",
    "version": 3
   },
   "file_extension": ".py",
   "mimetype": "text/x-python",
   "name": "python",
   "nbconvert_exporter": "python",
   "pygments_lexer": "ipython3",
   "version": "3.11.7"
  }
 },
 "nbformat": 4,
 "nbformat_minor": 5
}
