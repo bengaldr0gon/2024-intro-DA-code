{
  "nbformat": 4,
  "nbformat_minor": 0,
  "metadata": {
    "colab": {
      "provenance": [],
      "authorship_tag": "ABX9TyP486NMXzx4wJLEqPJ+Qoj/",
      "include_colab_link": true
    },
    "kernelspec": {
      "name": "python3",
      "display_name": "Python 3"
    },
    "language_info": {
      "name": "python"
    }
  },
  "cells": [
    {
      "cell_type": "markdown",
      "metadata": {
        "id": "view-in-github",
        "colab_type": "text"
      },
      "source": [
        "<a href=\"https://colab.research.google.com/github/bengaldr0gon/2024-intro-DA-code/blob/main/w02_3_python_data_structure.ipynb\" target=\"_parent\"><img src=\"https://colab.research.google.com/assets/colab-badge.svg\" alt=\"Open In Colab\"/></a>"
      ]
    },
    {
      "cell_type": "markdown",
      "source": [
        "# **리스트**\n",
        "\n"
      ],
      "metadata": {
        "id": "2HBa1caQod-b"
      }
    },
    {
      "cell_type": "markdown",
      "source": [
        "#***리스트 개요와 생성***"
      ],
      "metadata": {
        "id": "figDDu1jo0GM"
      }
    },
    {
      "cell_type": "code",
      "execution_count": 1,
      "metadata": {
        "colab": {
          "base_uri": "https://localhost:8080/"
        },
        "id": "HdxtuaCiny9u",
        "outputId": "a1872986-46c2-4a58-d2cf-c27b7d95b152"
      },
      "outputs": [
        {
          "output_type": "stream",
          "name": "stdout",
          "text": [
            "[10, 20, 30] <class 'list'>\n"
          ]
        }
      ],
      "source": [
        "lst = [10, 20, 30]\n",
        "print(lst, type(lst)) #배열 lst와 lst의 데이터 타입을 출력한다. 이때 print는 당연히 쉼표를 생략해출력."
      ]
    },
    {
      "cell_type": "code",
      "source": [
        "list(['java', 'python', 'R']) # list() 함수를 이용해 대괄호로 만든 리스트를 출력"
      ],
      "metadata": {
        "colab": {
          "base_uri": "https://localhost:8080/"
        },
        "id": "_mRxl2dVoP1E",
        "outputId": "806597e5-3700-4542-a1c7-2da5cb4c89d1"
      },
      "execution_count": 2,
      "outputs": [
        {
          "output_type": "execute_result",
          "data": {
            "text/plain": [
              "['java', 'python', 'R']"
            ]
          },
          "metadata": {},
          "execution_count": 2
        }
      ]
    },
    {
      "cell_type": "code",
      "source": [
        "print(list(range(5))) #1~4로 이루어진 배열을 만들고 출력\n",
        "print(list(range(1, 10, 2))) #1~10까지 간격을 2로 설정한 배열을 만들고 출력"
      ],
      "metadata": {
        "colab": {
          "base_uri": "https://localhost:8080/"
        },
        "id": "P9NyeuFwpC5W",
        "outputId": "75230328-8ab4-4a59-b956-42406f34ed04"
      },
      "execution_count": null,
      "outputs": [
        {
          "output_type": "stream",
          "name": "stdout",
          "text": [
            "[0, 1, 2, 3, 4]\n",
            "[1, 3, 5, 7, 9]\n"
          ]
        }
      ]
    },
    {
      "cell_type": "markdown",
      "source": [
        "#***첨자 인덱싱과 슬라이싱***"
      ],
      "metadata": {
        "id": "Vk1lH8oApRqm"
      }
    },
    {
      "cell_type": "code",
      "source": [
        "lst = [1, 3.92, 3 > 4, 'list'] # 리스트는 float, boolean, string 관계없이 저장가능하다.\n",
        "print(lst[0], lst[2]) # 인덱스를 활용해 원하는 부분을 출력할 수 있음"
      ],
      "metadata": {
        "colab": {
          "base_uri": "https://localhost:8080/"
        },
        "id": "vm7J9mRZpLRW",
        "outputId": "77241dea-36f2-40ea-a21e-2aa678a038fb"
      },
      "execution_count": null,
      "outputs": [
        {
          "output_type": "stream",
          "name": "stdout",
          "text": [
            "1 False\n"
          ]
        }
      ]
    },
    {
      "cell_type": "code",
      "source": [
        "lst[2:4] # 슬라이싱으로도 참조 가능하다. 2~3까지의 첨자를 반환."
      ],
      "metadata": {
        "colab": {
          "base_uri": "https://localhost:8080/"
        },
        "id": "Ku0LqA1RpgPz",
        "outputId": "588c2fc7-9773-4d6c-e6ad-d5bec040e34d"
      },
      "execution_count": null,
      "outputs": [
        {
          "output_type": "execute_result",
          "data": {
            "text/plain": [
              "[False, 'list']"
            ]
          },
          "metadata": {},
          "execution_count": 8
        }
      ]
    },
    {
      "cell_type": "code",
      "source": [
        "print(lst[2:]) # 슬라이싱은 [start:end:step]으로 세부설정 가능하다. 설정하지않으면 기본적으로 [0:끝값:1]로 설정됨.\n",
        "print(lst[:4])\n",
        "print(lst[-1:-4:-1])"
      ],
      "metadata": {
        "colab": {
          "base_uri": "https://localhost:8080/"
        },
        "id": "k7GBnMQBplaH",
        "outputId": "899e1d6f-3b1f-4d6d-c4b4-1dfef21ad417"
      },
      "execution_count": null,
      "outputs": [
        {
          "output_type": "stream",
          "name": "stdout",
          "text": [
            "[False, 'list']\n",
            "[1, 3.92, False, 'list']\n",
            "['list', False, 3.92]\n"
          ]
        }
      ]
    },
    {
      "cell_type": "markdown",
      "source": [
        "#***메소드 append() insert()***"
      ],
      "metadata": {
        "id": "7wPX_s-Ep0A8"
      }
    },
    {
      "cell_type": "code",
      "source": [
        "import math as m # import로 불러오고 as로 별칭을 만든다.\n",
        "a = [m.pi, 30, 10 > 4, 'list', lambda x: x**3] #lambda 함수는 익명함수로 \"f= lambda 변수:식\" 과 같이 사용된다.\n",
        "a.append('py')\n",
        "a"
      ],
      "metadata": {
        "colab": {
          "base_uri": "https://localhost:8080/"
        },
        "id": "dgVCws_lpvnY",
        "outputId": "cd0d6286-1d6a-4c63-ac26-ee74569a848c"
      },
      "execution_count": null,
      "outputs": [
        {
          "output_type": "execute_result",
          "data": {
            "text/plain": [
              "[3.141592653589793, 30, True, 'list', <function __main__.<lambda>(x)>, 'py']"
            ]
          },
          "metadata": {},
          "execution_count": 10
        }
      ]
    },
    {
      "cell_type": "code",
      "source": [
        "def add2(x, y): # 함수 정의.\n",
        "    return x + y # return은 print와 다르게 변수에 저장이 가능하다.\n",
        "\n",
        "a.insert(1, add2) # a의 인덱스 1번에 add2() 함수를 삽입한다.\n",
        "a[1](10, 20)"
      ],
      "metadata": {
        "colab": {
          "base_uri": "https://localhost:8080/"
        },
        "id": "dysgGfrcqGnS",
        "outputId": "4753b621-2b35-4132-fd9f-5b62f24e451d"
      },
      "execution_count": null,
      "outputs": [
        {
          "output_type": "execute_result",
          "data": {
            "text/plain": [
              "30"
            ]
          },
          "metadata": {},
          "execution_count": 11
        }
      ]
    },
    {
      "cell_type": "code",
      "source": [
        "a"
      ],
      "metadata": {
        "colab": {
          "base_uri": "https://localhost:8080/"
        },
        "id": "vfV7mqfVsAPK",
        "outputId": "bc044ca8-418c-4a3c-9094-7dbab239e13c"
      },
      "execution_count": null,
      "outputs": [
        {
          "output_type": "execute_result",
          "data": {
            "text/plain": [
              "[3.141592653589793,\n",
              " <function __main__.add2(x, y)>,\n",
              " 30,\n",
              " True,\n",
              " 'list',\n",
              " <function __main__.<lambda>(x)>,\n",
              " 'py']"
            ]
          },
          "metadata": {},
          "execution_count": 12
        }
      ]
    },
    {
      "cell_type": "code",
      "source": [
        "a.remove(30)#list.remove 메소드를 통해 item을 삭제한다."
      ],
      "metadata": {
        "id": "eDFykS_er_LF"
      },
      "execution_count": null,
      "outputs": []
    },
    {
      "cell_type": "code",
      "source": [
        "a.pop() # pop은 마지막 요소를 제거하고 반환한다.(변수에 저장가능하다)"
      ],
      "metadata": {
        "colab": {
          "base_uri": "https://localhost:8080/",
          "height": 35
        },
        "id": "X_CCYTsasD1b",
        "outputId": "6ed98370-dda0-4878-dd07-4222a6f732f5"
      },
      "execution_count": null,
      "outputs": [
        {
          "output_type": "execute_result",
          "data": {
            "text/plain": [
              "'py'"
            ],
            "application/vnd.google.colaboratory.intrinsic+json": {
              "type": "string"
            }
          },
          "metadata": {},
          "execution_count": 14
        }
      ]
    },
    {
      "cell_type": "code",
      "source": [
        "a"
      ],
      "metadata": {
        "colab": {
          "base_uri": "https://localhost:8080/"
        },
        "id": "YHOAxsq0sEuS",
        "outputId": "b9cdd2e8-81c2-4a1b-d803-e7affe2fceb0"
      },
      "execution_count": null,
      "outputs": [
        {
          "output_type": "execute_result",
          "data": {
            "text/plain": [
              "[3.141592653589793,\n",
              " <function __main__.add2(x, y)>,\n",
              " True,\n",
              " 'list',\n",
              " <function __main__.<lambda>(x)>]"
            ]
          },
          "metadata": {},
          "execution_count": 15
        }
      ]
    },
    {
      "cell_type": "markdown",
      "source": [
        "#***리스트 컴프리헨션***"
      ],
      "metadata": {
        "id": "zM4_gfIzsHH8"
      }
    },
    {
      "cell_type": "code",
      "source": [
        "my_list = [x for x in range(10)] # x에 0~9까지의 숫자를 넣어 리스트를 생성.\n",
        "my_list"
      ],
      "metadata": {
        "colab": {
          "base_uri": "https://localhost:8080/"
        },
        "id": "1LoDMGkHsFTc",
        "outputId": "36a9f7b1-42ca-455b-efbb-05450344e66d"
      },
      "execution_count": null,
      "outputs": [
        {
          "output_type": "execute_result",
          "data": {
            "text/plain": [
              "[0, 1, 2, 3, 4, 5, 6, 7, 8, 9]"
            ]
          },
          "metadata": {},
          "execution_count": 16
        }
      ]
    },
    {
      "cell_type": "code",
      "source": [
        "[x for x in range(10) if x%2 == 1] #홀수인 경우에만 삽입."
      ],
      "metadata": {
        "colab": {
          "base_uri": "https://localhost:8080/"
        },
        "id": "CHNIwYWVsO6V",
        "outputId": "ad2d67b6-2a42-4541-b919-1314cf99231a"
      },
      "execution_count": null,
      "outputs": [
        {
          "output_type": "execute_result",
          "data": {
            "text/plain": [
              "[1, 3, 5, 7, 9]"
            ]
          },
          "metadata": {},
          "execution_count": 17
        }
      ]
    },
    {
      "cell_type": "code",
      "source": [
        "['even' if i % 2 == 0 else 'odd' for i in range(1,11)] # if else 조건문에 따라 even 과 odd 삽입."
      ],
      "metadata": {
        "colab": {
          "base_uri": "https://localhost:8080/"
        },
        "id": "5W5bZi88sSoP",
        "outputId": "984051a1-8548-4d0b-ba01-ee9831351477"
      },
      "execution_count": null,
      "outputs": [
        {
          "output_type": "execute_result",
          "data": {
            "text/plain": [
              "['odd', 'even', 'odd', 'even', 'odd', 'even', 'odd', 'even', 'odd', 'even']"
            ]
          },
          "metadata": {},
          "execution_count": 18
        }
      ]
    },
    {
      "cell_type": "code",
      "source": [
        "[[i for j in range(5)] for i in range(3)] # 중첩 반복문."
      ],
      "metadata": {
        "colab": {
          "base_uri": "https://localhost:8080/"
        },
        "id": "JExQYf-VscbG",
        "outputId": "52746931-5555-4545-86b8-b188a29ad077"
      },
      "execution_count": null,
      "outputs": [
        {
          "output_type": "execute_result",
          "data": {
            "text/plain": [
              "[[0, 0, 0, 0, 0], [1, 1, 1, 1, 1], [2, 2, 2, 2, 2]]"
            ]
          },
          "metadata": {},
          "execution_count": 19
        }
      ]
    },
    {
      "cell_type": "code",
      "source": [
        "[[j for j in range(i, i + 6)] for i in range(3)] # 반복이 끝날 때 마다 i값이 1씩 증가됨,"
      ],
      "metadata": {
        "colab": {
          "base_uri": "https://localhost:8080/"
        },
        "id": "AxTcIIA_siCF",
        "outputId": "7b63dec9-2b64-4418-81e9-58d7d1f5695e"
      },
      "execution_count": null,
      "outputs": [
        {
          "output_type": "execute_result",
          "data": {
            "text/plain": [
              "[[0, 1, 2, 3, 4, 5], [1, 2, 3, 4, 5, 6], [2, 3, 4, 5, 6, 7]]"
            ]
          },
          "metadata": {},
          "execution_count": 21
        }
      ]
    },
    {
      "cell_type": "markdown",
      "source": [
        "## **사전**"
      ],
      "metadata": {
        "id": "KGQGpIKwsqaZ"
      }
    },
    {
      "cell_type": "markdown",
      "source": [
        "#***사전 개요와 생성***"
      ],
      "metadata": {
        "id": "L_AqEz25sz7x"
      }
    },
    {
      "cell_type": "code",
      "source": [
        "mart = {'라면':1200, '음료수':1500, '과자':800} # 중괄호는 dict타입을 생성한다.\n",
        "print(mart, type(mart))"
      ],
      "metadata": {
        "colab": {
          "base_uri": "https://localhost:8080/"
        },
        "id": "cFg7oIESsnGe",
        "outputId": "729125b0-72dc-4572-8667-5494ed5e518c"
      },
      "execution_count": null,
      "outputs": [
        {
          "output_type": "stream",
          "name": "stdout",
          "text": [
            "{'라면': 1200, '음료수': 1500, '과자': 800} <class 'dict'>\n"
          ]
        }
      ]
    },
    {
      "cell_type": "code",
      "source": [
        "print(mart['라면']) #key값을 통해 value를 출력 가능하다.\n",
        "print(mart['과자'])\n",
        "print(mart['음료수'])"
      ],
      "metadata": {
        "colab": {
          "base_uri": "https://localhost:8080/"
        },
        "id": "Mfx_mt7gtF3K",
        "outputId": "6188cd3a-e576-4cbc-b5a1-9129e79f23fe"
      },
      "execution_count": null,
      "outputs": [
        {
          "output_type": "stream",
          "name": "stdout",
          "text": [
            "1200\n",
            "800\n",
            "1500\n"
          ]
        }
      ]
    },
    {
      "cell_type": "code",
      "source": [
        "data = {1: '일', 3.14: 2.71, (1, 2): '튜플', 'list': [1, 2, 3]} # dict 또한 여러 타입의 변수를 저장할 수 있다.\n",
        "data"
      ],
      "metadata": {
        "colab": {
          "base_uri": "https://localhost:8080/"
        },
        "id": "X9Nt3ESGtIKX",
        "outputId": "52b4d9b4-d3c9-4f99-b952-5565ce97524f"
      },
      "execution_count": null,
      "outputs": [
        {
          "output_type": "execute_result",
          "data": {
            "text/plain": [
              "{1: '일', 3.14: 2.71, (1, 2): '튜플', 'list': [1, 2, 3]}"
            ]
          },
          "metadata": {},
          "execution_count": 25
        }
      ]
    },
    {
      "cell_type": "code",
      "source": [
        "data = {1: '일', 3.14: 2.71, [1, 2]: '리스트', 'list': [1, 2, 3]} #그러나 수정이 가능한 list, set, dict 는 키가 될 수 없다."
      ],
      "metadata": {
        "colab": {
          "base_uri": "https://localhost:8080/",
          "height": 145
        },
        "id": "LTxfVSDutY2q",
        "outputId": "5f366856-a0c4-4750-c380-2f8607f0fd1d"
      },
      "execution_count": null,
      "outputs": [
        {
          "output_type": "error",
          "ename": "TypeError",
          "evalue": "unhashable type: 'list'",
          "traceback": [
            "\u001b[0;31m---------------------------------------------------------------------------\u001b[0m",
            "\u001b[0;31mTypeError\u001b[0m                                 Traceback (most recent call last)",
            "\u001b[0;32m<ipython-input-26-2cd23a6c8f2c>\u001b[0m in \u001b[0;36m<cell line: 1>\u001b[0;34m()\u001b[0m\n\u001b[0;32m----> 1\u001b[0;31m \u001b[0mdata\u001b[0m \u001b[0;34m=\u001b[0m \u001b[0;34m{\u001b[0m\u001b[0;36m1\u001b[0m\u001b[0;34m:\u001b[0m \u001b[0;34m'일'\u001b[0m\u001b[0;34m,\u001b[0m \u001b[0;36m3.14\u001b[0m\u001b[0;34m:\u001b[0m \u001b[0;36m2.71\u001b[0m\u001b[0;34m,\u001b[0m \u001b[0;34m[\u001b[0m\u001b[0;36m1\u001b[0m\u001b[0;34m,\u001b[0m \u001b[0;36m2\u001b[0m\u001b[0;34m]\u001b[0m\u001b[0;34m:\u001b[0m \u001b[0;34m'리스트'\u001b[0m\u001b[0;34m,\u001b[0m \u001b[0;34m'list'\u001b[0m\u001b[0;34m:\u001b[0m \u001b[0;34m[\u001b[0m\u001b[0;36m1\u001b[0m\u001b[0;34m,\u001b[0m \u001b[0;36m2\u001b[0m\u001b[0;34m,\u001b[0m \u001b[0;36m3\u001b[0m\u001b[0;34m]\u001b[0m\u001b[0;34m}\u001b[0m\u001b[0;34m\u001b[0m\u001b[0;34m\u001b[0m\u001b[0m\n\u001b[0m",
            "\u001b[0;31mTypeError\u001b[0m: unhashable type: 'list'"
          ]
        }
      ]
    },
    {
      "cell_type": "code",
      "source": [
        "f_cnt = dict((('apple', 2), ('banana', 5), ('orange', 3))) # dict(item)을 통해 사전을 만들 수 있다. 인자 item 은 list나 tuple이면 가능하다.\n",
        "f_cnt"
      ],
      "metadata": {
        "colab": {
          "base_uri": "https://localhost:8080/"
        },
        "id": "8mibw3XNuFB-",
        "outputId": "b0e9f102-51ad-4c69-9383-5ef4aca56eb8"
      },
      "execution_count": null,
      "outputs": [
        {
          "output_type": "execute_result",
          "data": {
            "text/plain": [
              "{'apple': 2, 'banana': 5, 'orange': 3}"
            ]
          },
          "metadata": {},
          "execution_count": 27
        }
      ]
    },
    {
      "cell_type": "code",
      "source": [
        "f_price = dict(apple=4000, banana=300, orange=2000) # equal로도 가능.\n",
        "f_price"
      ],
      "metadata": {
        "colab": {
          "base_uri": "https://localhost:8080/"
        },
        "id": "0pBCfobquRhR",
        "outputId": "17596263-5fd7-48e0-ebe7-e8fbe6d11d45"
      },
      "execution_count": null,
      "outputs": [
        {
          "output_type": "execute_result",
          "data": {
            "text/plain": [
              "{'apple': 4000, 'banana': 300, 'orange': 2000}"
            ]
          },
          "metadata": {},
          "execution_count": 28
        }
      ]
    },
    {
      "cell_type": "code",
      "source": [
        "mart = {'라면':1200, '음료수':1500, '과자':800} # 이미 dict가 생성된 후에도 \"dict명[key] = value\" 로 추가 저장가능하다.\n",
        "mart['삼각김밥'] = 1700\n",
        "mart"
      ],
      "metadata": {
        "colab": {
          "base_uri": "https://localhost:8080/"
        },
        "id": "t2Yu8dsRuZ_k",
        "outputId": "fd064b34-5531-45fa-d744-031c8cd78662"
      },
      "execution_count": null,
      "outputs": [
        {
          "output_type": "execute_result",
          "data": {
            "text/plain": [
              "{'라면': 1200, '음료수': 1500, '과자': 800, '삼각김밥': 1700}"
            ]
          },
          "metadata": {},
          "execution_count": 29
        }
      ]
    },
    {
      "cell_type": "code",
      "source": [
        "mart['과자'] = 900 # key를 통해 value값 수정도 가능하다.\n",
        "mart"
      ],
      "metadata": {
        "colab": {
          "base_uri": "https://localhost:8080/"
        },
        "id": "m1PfAmrVufu5",
        "outputId": "12f43adb-e1ef-471d-a265-f2b757203f94"
      },
      "execution_count": null,
      "outputs": [
        {
          "output_type": "execute_result",
          "data": {
            "text/plain": [
              "{'라면': 1200, '음료수': 1500, '과자': 900, '삼각김밥': 1700}"
            ]
          },
          "metadata": {},
          "execution_count": 30
        }
      ]
    },
    {
      "cell_type": "code",
      "source": [
        "mart.keys() # key 메소드를 통해 key만 따로 출력가능함."
      ],
      "metadata": {
        "colab": {
          "base_uri": "https://localhost:8080/"
        },
        "id": "3VBWf6Blujs0",
        "outputId": "c064f420-4f08-43b7-9481-d2183f0d6396"
      },
      "execution_count": null,
      "outputs": [
        {
          "output_type": "execute_result",
          "data": {
            "text/plain": [
              "dict_keys(['라면', '음료수', '과자', '삼각김밥'])"
            ]
          },
          "metadata": {},
          "execution_count": 33
        }
      ]
    },
    {
      "cell_type": "code",
      "source": [
        "mart.values() # 마찬가지로 value 메소드를 통해 value도 따로 출력가능."
      ],
      "metadata": {
        "colab": {
          "base_uri": "https://localhost:8080/"
        },
        "id": "c2b6qTR0uk5O",
        "outputId": "26500a51-8363-4628-c7a0-15f9987473cb"
      },
      "execution_count": null,
      "outputs": [
        {
          "output_type": "execute_result",
          "data": {
            "text/plain": [
              "dict_values([1200, 1500, 900, 1700])"
            ]
          },
          "metadata": {},
          "execution_count": 34
        }
      ]
    },
    {
      "cell_type": "code",
      "source": [
        "mart.items() # dict.items()로 키와 값의 쌍을 출력가능."
      ],
      "metadata": {
        "colab": {
          "base_uri": "https://localhost:8080/"
        },
        "id": "p1Eme9n8u04t",
        "outputId": "3c594e41-c668-451b-cc93-aec5eea70b74"
      },
      "execution_count": null,
      "outputs": [
        {
          "output_type": "execute_result",
          "data": {
            "text/plain": [
              "dict_items([('라면', 1200), ('음료수', 1500), ('과자', 900), ('삼각김밥', 1700)])"
            ]
          },
          "metadata": {},
          "execution_count": 35
        }
      ]
    },
    {
      "cell_type": "markdown",
      "source": [
        "# ***튜플과 집합***"
      ],
      "metadata": {
        "id": "36mRZsYjvMuG"
      }
    },
    {
      "cell_type": "code",
      "source": [
        "# 튜플의 3가지 속성 immutable(수정X, 데이터 무결성 보장)/ 성능(리스트보다 메모리 사용이 적고, 읽기 속도가 빠름)/ 해시가능성 (딕셔너리의 키나 집합의 원소로 사용가능)\n",
        "tp1 = 1, 2, 3 #튜플은 쉼표로 구분해서 생성가능하다.\n",
        "tp2 = (10, 20, 30) # 일반적으로는 괄호를 통해서 생성\n",
        "print(tp1, tp2)"
      ],
      "metadata": {
        "colab": {
          "base_uri": "https://localhost:8080/"
        },
        "id": "TToOoMIku2f3",
        "outputId": "d3480635-23d3-483a-cb0b-e0807fb3df38"
      },
      "execution_count": null,
      "outputs": [
        {
          "output_type": "stream",
          "name": "stdout",
          "text": [
            "(1, 2, 3) (10, 20, 30)\n"
          ]
        }
      ]
    },
    {
      "cell_type": "code",
      "source": [
        "tp3 = tuple((10, 20, 30)) # tuple()을 통해서도 생성가능하다. 인자로도 리스트나 튜플을 넣을 수 있음.\n",
        "tp4 = tuple(['py', 'R'])\n",
        "print(tp3, tp4)"
      ],
      "metadata": {
        "colab": {
          "base_uri": "https://localhost:8080/"
        },
        "id": "J0pjiEPBvWyn",
        "outputId": "31f07ce5-1b88-4cfd-f1f0-4c1d1187e529"
      },
      "execution_count": null,
      "outputs": [
        {
          "output_type": "stream",
          "name": "stdout",
          "text": [
            "(10, 20, 30) ('py', 'R')\n"
          ]
        }
      ]
    },
    {
      "cell_type": "code",
      "source": [
        "tuple1 = (1, 2, 3)\n",
        "tuple2 = (4, 5, 6)\n",
        "concatenated_tuple = tuple1 + tuple2 # 튜플자체는 수정 불가능하지만 연결은 가능하다.\n",
        "concatenated_tuple"
      ],
      "metadata": {
        "colab": {
          "base_uri": "https://localhost:8080/"
        },
        "id": "KbuN9wY1vkOS",
        "outputId": "994c705f-7b94-4aed-d1ce-73272db6b440"
      },
      "execution_count": null,
      "outputs": [
        {
          "output_type": "execute_result",
          "data": {
            "text/plain": [
              "(1, 2, 3, 4, 5, 6)"
            ]
          },
          "metadata": {},
          "execution_count": 45
        }
      ]
    },
    {
      "cell_type": "markdown",
      "source": [
        "#***집합 개요와 활용***"
      ],
      "metadata": {
        "id": "c6FQCt0Lv-85"
      }
    },
    {
      "cell_type": "code",
      "source": [
        "basket = {'apple', 'orange', 'apple', 'pear'} # 집합 set은 중복된 원소가 없는 순서가 없는 자료형이다.\n",
        "basket"
      ],
      "metadata": {
        "colab": {
          "base_uri": "https://localhost:8080/"
        },
        "id": "GmNe0oKVvwNU",
        "outputId": "e996bfcf-ea7c-4641-e9e9-23ef844ab7d9"
      },
      "execution_count": null,
      "outputs": [
        {
          "output_type": "execute_result",
          "data": {
            "text/plain": [
              "{'apple', 'orange', 'pear'}"
            ]
          },
          "metadata": {},
          "execution_count": 40
        }
      ]
    },
    {
      "cell_type": "code",
      "source": [
        "len(basket)"
      ],
      "metadata": {
        "colab": {
          "base_uri": "https://localhost:8080/"
        },
        "id": "AK9Rj1o_wKOM",
        "outputId": "dcd8a695-75dd-4b64-a957-0525d48bdc6a"
      },
      "execution_count": null,
      "outputs": [
        {
          "output_type": "execute_result",
          "data": {
            "text/plain": [
              "3"
            ]
          },
          "metadata": {},
          "execution_count": 41
        }
      ]
    },
    {
      "cell_type": "code",
      "source": [
        "print('grape' in basket) # 소속 연산자 in을 통해 원소가 집합안에 있는지 확인 가능하다.\n",
        "print('apple' in basket)"
      ],
      "metadata": {
        "colab": {
          "base_uri": "https://localhost:8080/"
        },
        "id": "sOhmxDCowL3F",
        "outputId": "899a3c6f-33b0-4ebd-aa63-350b56838e39"
      },
      "execution_count": null,
      "outputs": [
        {
          "output_type": "stream",
          "name": "stdout",
          "text": [
            "False\n",
            "True\n"
          ]
        }
      ]
    },
    {
      "cell_type": "code",
      "source": [
        "A = {1, 2, 3, 4} # 자료형 집합을 사용하여 합교차여 집합 모두 표현 가능하다.\n",
        "B = {3, 4, 5, 6, 7}\n",
        "print(A.union(B))\n",
        "print(A.intersection(B))\n",
        "print(A.difference(B))\n",
        "print(B.difference(A))\n",
        "print(A.symmetric_difference(B))"
      ],
      "metadata": {
        "colab": {
          "base_uri": "https://localhost:8080/"
        },
        "id": "M723IPbDwQVb",
        "outputId": "3380aa17-ed55-4044-b3e0-1a6c8957872b"
      },
      "execution_count": null,
      "outputs": [
        {
          "output_type": "stream",
          "name": "stdout",
          "text": [
            "{1, 2, 3, 4, 5, 6, 7}\n",
            "{3, 4}\n",
            "{1, 2}\n",
            "{5, 6, 7}\n",
            "{1, 2, 5, 6, 7}\n"
          ]
        }
      ]
    },
    {
      "cell_type": "code",
      "source": [
        "A =  {1, 2, 3, 4} # 집합 연산자로도 가능\n",
        "B = {3, 4, 5, 6, 7}\n",
        "print(A | B)\n",
        "print(A & B)\n",
        "print(A - B)\n",
        "print(B - A)\n",
        "print(A ^ B)"
      ],
      "metadata": {
        "colab": {
          "base_uri": "https://localhost:8080/"
        },
        "id": "qzSJhUgsyCHr",
        "outputId": "cb18ae78-8a07-4aec-9fa1-6adad8956e19"
      },
      "execution_count": null,
      "outputs": [
        {
          "output_type": "stream",
          "name": "stdout",
          "text": [
            "{1, 2, 3, 4, 5, 6, 7}\n",
            "{3, 4}\n",
            "{1, 2}\n",
            "{5, 6, 7}\n",
            "{1, 2, 5, 6, 7}\n"
          ]
        }
      ]
    },
    {
      "cell_type": "code",
      "source": [
        "basket = {'apple', 'orange', 'apple', 'pear'}\n",
        "basket.add('banana') # 집합은 수정가능하다.\n",
        "basket"
      ],
      "metadata": {
        "colab": {
          "base_uri": "https://localhost:8080/"
        },
        "id": "MaihtYz1yQ10",
        "outputId": "13aa4aa6-43b2-4e2c-a90a-4c817aae43a9"
      },
      "execution_count": null,
      "outputs": [
        {
          "output_type": "execute_result",
          "data": {
            "text/plain": [
              "{'apple', 'banana', 'orange', 'pear'}"
            ]
          },
          "metadata": {},
          "execution_count": 47
        }
      ]
    },
    {
      "cell_type": "code",
      "source": [
        "myset = {0} # 수정가능한 list는 집합의 원소가 될 수 없다.\n",
        "print(myset)\n",
        "myset.add([1, 2])"
      ],
      "metadata": {
        "colab": {
          "base_uri": "https://localhost:8080/",
          "height": 198
        },
        "id": "QKWz_MRgyXH3",
        "outputId": "39644239-5103-4e59-ad9f-dfd711a8d613"
      },
      "execution_count": null,
      "outputs": [
        {
          "output_type": "stream",
          "name": "stdout",
          "text": [
            "{0}\n"
          ]
        },
        {
          "output_type": "error",
          "ename": "TypeError",
          "evalue": "unhashable type: 'list'",
          "traceback": [
            "\u001b[0;31m---------------------------------------------------------------------------\u001b[0m",
            "\u001b[0;31mTypeError\u001b[0m                                 Traceback (most recent call last)",
            "\u001b[0;32m<ipython-input-48-a94db64207f9>\u001b[0m in \u001b[0;36m<cell line: 3>\u001b[0;34m()\u001b[0m\n\u001b[1;32m      1\u001b[0m \u001b[0mmyset\u001b[0m \u001b[0;34m=\u001b[0m \u001b[0;34m{\u001b[0m\u001b[0;36m0\u001b[0m\u001b[0;34m}\u001b[0m\u001b[0;34m\u001b[0m\u001b[0;34m\u001b[0m\u001b[0m\n\u001b[1;32m      2\u001b[0m \u001b[0mprint\u001b[0m\u001b[0;34m(\u001b[0m\u001b[0mmyset\u001b[0m\u001b[0;34m)\u001b[0m\u001b[0;34m\u001b[0m\u001b[0;34m\u001b[0m\u001b[0m\n\u001b[0;32m----> 3\u001b[0;31m \u001b[0mmyset\u001b[0m\u001b[0;34m.\u001b[0m\u001b[0madd\u001b[0m\u001b[0;34m(\u001b[0m\u001b[0;34m[\u001b[0m\u001b[0;36m1\u001b[0m\u001b[0;34m,\u001b[0m \u001b[0;36m2\u001b[0m\u001b[0;34m]\u001b[0m\u001b[0;34m)\u001b[0m\u001b[0;34m\u001b[0m\u001b[0;34m\u001b[0m\u001b[0m\n\u001b[0m",
            "\u001b[0;31mTypeError\u001b[0m: unhashable type: 'list'"
          ]
        }
      ]
    },
    {
      "cell_type": "code",
      "source": [
        "myset = {0} #튜플은 가능\n",
        "myset.add((1, 2))\n",
        "myset"
      ],
      "metadata": {
        "colab": {
          "base_uri": "https://localhost:8080/"
        },
        "id": "WxnKqq04yfhn",
        "outputId": "166b0fc6-4d26-4ddc-dff5-ef7845f919d3"
      },
      "execution_count": null,
      "outputs": [
        {
          "output_type": "execute_result",
          "data": {
            "text/plain": [
              "{(1, 2), 0}"
            ]
          },
          "metadata": {},
          "execution_count": 49
        }
      ]
    },
    {
      "cell_type": "code",
      "source": [
        "myset.remove(0) # 삭제도 가능하다.\n",
        "myset"
      ],
      "metadata": {
        "colab": {
          "base_uri": "https://localhost:8080/"
        },
        "id": "vWWPg-ZGykFt",
        "outputId": "830a3c7c-b9a7-49cb-aee4-2020e84bc816"
      },
      "execution_count": null,
      "outputs": [
        {
          "output_type": "execute_result",
          "data": {
            "text/plain": [
              "{(1, 2)}"
            ]
          },
          "metadata": {},
          "execution_count": 50
        }
      ]
    },
    {
      "cell_type": "markdown",
      "source": [
        "#***수정불가능 immutable과 함수 hash() id()***"
      ],
      "metadata": {
        "id": "cOV9vVpOyo_M"
      }
    },
    {
      "cell_type": "code",
      "source": [
        "print(hash([1, 2, 3])) # hash가 무엇인지는 잘 모르겠으나 수정 가능한 dict, list, set은 hash()값을 가질 수 없다."
      ],
      "metadata": {
        "colab": {
          "base_uri": "https://localhost:8080/",
          "height": 145
        },
        "id": "x07YcDDDymQ8",
        "outputId": "49712c74-5b8d-4def-d06b-798e047256db"
      },
      "execution_count": null,
      "outputs": [
        {
          "output_type": "error",
          "ename": "TypeError",
          "evalue": "unhashable type: 'list'",
          "traceback": [
            "\u001b[0;31m---------------------------------------------------------------------------\u001b[0m",
            "\u001b[0;31mTypeError\u001b[0m                                 Traceback (most recent call last)",
            "\u001b[0;32m<ipython-input-51-d96208418859>\u001b[0m in \u001b[0;36m<cell line: 1>\u001b[0;34m()\u001b[0m\n\u001b[0;32m----> 1\u001b[0;31m \u001b[0mprint\u001b[0m\u001b[0;34m(\u001b[0m\u001b[0mhash\u001b[0m\u001b[0;34m(\u001b[0m\u001b[0;34m[\u001b[0m\u001b[0;36m1\u001b[0m\u001b[0;34m,\u001b[0m \u001b[0;36m2\u001b[0m\u001b[0;34m,\u001b[0m \u001b[0;36m3\u001b[0m\u001b[0;34m]\u001b[0m\u001b[0;34m)\u001b[0m\u001b[0;34m)\u001b[0m\u001b[0;34m\u001b[0m\u001b[0;34m\u001b[0m\u001b[0m\n\u001b[0m",
            "\u001b[0;31mTypeError\u001b[0m: unhashable type: 'list'"
          ]
        }
      ]
    },
    {
      "cell_type": "code",
      "source": [
        "print(hash({'one':1}))"
      ],
      "metadata": {
        "colab": {
          "base_uri": "https://localhost:8080/",
          "height": 145
        },
        "id": "MkBmFcB1ywUR",
        "outputId": "a1ac2323-25a8-4e71-c20f-8186711447e6"
      },
      "execution_count": null,
      "outputs": [
        {
          "output_type": "error",
          "ename": "TypeError",
          "evalue": "unhashable type: 'dict'",
          "traceback": [
            "\u001b[0;31m---------------------------------------------------------------------------\u001b[0m",
            "\u001b[0;31mTypeError\u001b[0m                                 Traceback (most recent call last)",
            "\u001b[0;32m<ipython-input-52-376b540a2b57>\u001b[0m in \u001b[0;36m<cell line: 1>\u001b[0;34m()\u001b[0m\n\u001b[0;32m----> 1\u001b[0;31m \u001b[0mprint\u001b[0m\u001b[0;34m(\u001b[0m\u001b[0mhash\u001b[0m\u001b[0;34m(\u001b[0m\u001b[0;34m{\u001b[0m\u001b[0;34m'one'\u001b[0m\u001b[0;34m:\u001b[0m\u001b[0;36m1\u001b[0m\u001b[0;34m}\u001b[0m\u001b[0;34m)\u001b[0m\u001b[0;34m)\u001b[0m\u001b[0;34m\u001b[0m\u001b[0;34m\u001b[0m\u001b[0m\n\u001b[0m",
            "\u001b[0;31mTypeError\u001b[0m: unhashable type: 'dict'"
          ]
        }
      ]
    },
    {
      "cell_type": "code",
      "source": [
        "print(hash('py'), hash((1, 2)))"
      ],
      "metadata": {
        "colab": {
          "base_uri": "https://localhost:8080/"
        },
        "id": "dKbH17kNyzuc",
        "outputId": "a5da9b36-a035-4a50-8c18-fa3218d3a304"
      },
      "execution_count": null,
      "outputs": [
        {
          "output_type": "stream",
          "name": "stdout",
          "text": [
            "604622097425189626 -3550055125485641917\n"
          ]
        }
      ]
    },
    {
      "cell_type": "code",
      "source": [
        "help(id)"
      ],
      "metadata": {
        "colab": {
          "base_uri": "https://localhost:8080/"
        },
        "id": "mvIwLy9x0cJX",
        "outputId": "24c5b1de-9ca2-492f-bf7d-97ce5a953f05"
      },
      "execution_count": null,
      "outputs": [
        {
          "output_type": "stream",
          "name": "stdout",
          "text": [
            "Help on built-in function id in module builtins:\n",
            "\n",
            "id(obj, /)\n",
            "    Return the identity of an object.\n",
            "    \n",
            "    This is guaranteed to be unique among simultaneously existing objects.\n",
            "    (CPython uses the object's memory address.)\n",
            "\n"
          ]
        }
      ]
    },
    {
      "cell_type": "code",
      "source": [
        "x, y = 10, 10\n",
        "print(id(x), id(y))"
      ],
      "metadata": {
        "colab": {
          "base_uri": "https://localhost:8080/"
        },
        "id": "JaK3RAhd0eLn",
        "outputId": "a4532e00-d261-4c69-d2f9-a0d93ba54b34"
      },
      "execution_count": null,
      "outputs": [
        {
          "output_type": "stream",
          "name": "stdout",
          "text": [
            "137359238283792 137359238283792\n"
          ]
        }
      ]
    },
    {
      "cell_type": "code",
      "source": [],
      "metadata": {
        "id": "JzReExU00iZK"
      },
      "execution_count": null,
      "outputs": []
    }
  ]
}